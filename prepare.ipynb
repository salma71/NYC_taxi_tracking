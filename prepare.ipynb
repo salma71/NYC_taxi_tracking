{
 "metadata": {
  "language_info": {
   "codemirror_mode": {
    "name": "ipython",
    "version": 3
   },
   "file_extension": ".py",
   "mimetype": "text/x-python",
   "name": "python",
   "nbconvert_exporter": "python",
   "pygments_lexer": "ipython3",
   "version": "3.8.1-final"
  },
  "orig_nbformat": 2,
  "kernelspec": {
   "name": "python_defaultSpec_1599824548316",
   "display_name": "Python 3.8.1 64-bit"
  }
 },
 "nbformat": 4,
 "nbformat_minor": 2,
 "cells": [
  {
   "cell_type": "code",
   "execution_count": 3,
   "metadata": {},
   "outputs": [],
   "source": [
    "import vaex\n",
    "import numpy as np\n",
    "import pandas as pd\n",
    "from tqdm.notebook import tqdm"
   ]
  },
  {
   "cell_type": "code",
   "execution_count": 4,
   "metadata": {},
   "outputs": [],
   "source": [
    "df = vaex.open('s3://vaex/taxi/yellow_taxi_2009_2015_f32.hdf5?anon=true')"
   ]
  },
  {
   "cell_type": "code",
   "execution_count": 5,
   "metadata": {},
   "outputs": [
    {
     "output_type": "display_data",
     "data": {
      "text/plain": "<IPython.core.display.HTML object>",
      "text/html": "<table>\n<thead>\n<tr><th>#                                      </th><th>vendor_id  </th><th>pickup_datetime              </th><th>dropoff_datetime             </th><th>passenger_count  </th><th>payment_type  </th><th>trip_distance      </th><th>pickup_longitude  </th><th>pickup_latitude   </th><th>rate_code  </th><th>store_and_fwd_flag  </th><th>dropoff_longitude  </th><th>dropoff_latitude  </th><th>fare_amount      </th><th>surcharge  </th><th>mta_tax  </th><th>tip_amount      </th><th>tolls_amount     </th><th>total_amount     </th></tr>\n</thead>\n<tbody>\n<tr><td>&lt;i style=&#x27;opacity: 0.6&#x27;&gt;0&lt;/i&gt;          </td><td>CMT        </td><td>2012-01-10 23:55:50.000000000</td><td>2012-01-11 00:03:39.000000000</td><td>1                </td><td>CRD           </td><td>1.7000000476837158 </td><td>-73.99468994140625</td><td>40.725032806396484</td><td>1.0        </td><td>0.0                 </td><td>-73.9759521484375  </td><td>40.73078155517578 </td><td>6.900000095367432</td><td>0.5        </td><td>0.5      </td><td>1.0             </td><td>0.0              </td><td>8.899999618530273</td></tr>\n<tr><td>&lt;i style=&#x27;opacity: 0.6&#x27;&gt;1&lt;/i&gt;          </td><td>CMT        </td><td>2012-01-11 19:18:25.000000000</td><td>2012-01-11 19:26:10.000000000</td><td>1                </td><td>CSH           </td><td>1.100000023841858  </td><td>-73.98795318603516</td><td>40.75294876098633 </td><td>1.0        </td><td>0.0                 </td><td>-73.9945297241211  </td><td>40.76103973388672 </td><td>6.099999904632568</td><td>1.0        </td><td>0.5      </td><td>0.0             </td><td>0.0              </td><td>7.599999904632568</td></tr>\n<tr><td>&lt;i style=&#x27;opacity: 0.6&#x27;&gt;2&lt;/i&gt;          </td><td>CMT        </td><td>2012-01-11 19:19:19.000000000</td><td>2012-01-11 19:48:15.000000000</td><td>2                </td><td>CRD           </td><td>18.0               </td><td>-73.78309631347656</td><td>40.6485481262207  </td><td>2.0        </td><td>0.0                 </td><td>-73.99613189697266 </td><td>40.747623443603516</td><td>45.0             </td><td>0.0        </td><td>0.5      </td><td>10.0600004196167</td><td>4.800000190734863</td><td>60.36000061035156</td></tr>\n<tr><td>...                                    </td><td>...        </td><td>...                          </td><td>...                          </td><td>...              </td><td>...           </td><td>...                </td><td>...               </td><td>...               </td><td>...        </td><td>...                 </td><td>...                </td><td>...               </td><td>...              </td><td>...        </td><td>...      </td><td>...             </td><td>...              </td><td>...              </td></tr>\n<tr><td>&lt;i style=&#x27;opacity: 0.6&#x27;&gt;178,544,321&lt;/i&gt;</td><td>CMT        </td><td>2012-12-24 21:09:56.000000000</td><td>2012-12-24 21:13:22.000000000</td><td>1                </td><td>CSH           </td><td>0.30000001192092896</td><td>-73.96232604980469</td><td>40.77641296386719 </td><td>1.0        </td><td>0.0                 </td><td>-73.95834350585938 </td><td>40.774906158447266</td><td>4.0              </td><td>0.5        </td><td>0.5      </td><td>0.0             </td><td>0.0              </td><td>5.0              </td></tr>\n<tr><td>&lt;i style=&#x27;opacity: 0.6&#x27;&gt;178,544,322&lt;/i&gt;</td><td>CMT        </td><td>2012-12-24 20:07:23.000000000</td><td>2012-12-24 20:20:18.000000000</td><td>1                </td><td>CSH           </td><td>1.100000023841858  </td><td>-73.97209167480469</td><td>40.75520706176758 </td><td>4.0        </td><td>0.0                 </td><td>-73.98250579833984 </td><td>40.76253890991211 </td><td>9.5              </td><td>0.5        </td><td>0.5      </td><td>0.0             </td><td>0.0              </td><td>10.5             </td></tr>\n<tr><td>&lt;i style=&#x27;opacity: 0.6&#x27;&gt;178,544,323&lt;/i&gt;</td><td>CMT        </td><td>2012-12-24 09:57:17.000000000</td><td>2012-12-24 09:59:51.000000000</td><td>2                </td><td>CSH           </td><td>0.5                </td><td>-73.97518920898438</td><td>40.76108169555664 </td><td>1.0        </td><td>0.0                 </td><td>-73.98072814941406 </td><td>40.753299713134766</td><td>4.0              </td><td>0.0        </td><td>0.5      </td><td>0.0             </td><td>0.0              </td><td>4.5              </td></tr>\n</tbody>\n</table>"
     },
     "metadata": {}
    }
   ],
   "source": [
    "# The data is sorted, so we can simply slite it\n",
    "df = df[516794416:695338739+1]  # take 2012\n",
    "df.head_and_tail_print(3)"
   ]
  },
  {
   "cell_type": "code",
   "execution_count": null,
   "metadata": {},
   "outputs": [],
   "source": [
    "df.describe()"
   ]
  },
  {
   "cell_type": "code",
   "execution_count": null,
   "metadata": {},
   "outputs": [],
   "source": []
  }
 ]
}